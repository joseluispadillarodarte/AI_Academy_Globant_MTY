{
 "cells": [
  {
   "cell_type": "markdown",
   "metadata": {},
   "source": [
    "### **K-Nearest Neighbors (KNN)**\n",
    "\n",
    "Es un algoritmo muy utilizado en IA, especialmente para tareas de clasificación y regresión. Se usa con un conjunto de datos que ya han sido clasificados en diferentes categorías, KNN se para clasificar un nuevo punto de datos en función de sus vecinos más cercanos en el conjunto de datos.\n",
    "\n",
    "`Pasos a seguir:`\n",
    "<br>\n",
    "Seleccionar el valor de K: K representa el número de vecinos más cercanos que se considerarán para la clasificación.<br>\n",
    "Calcular la distancia: Se calcula la distancia entre el nuevo punto de datos y cada uno de los puntos del conjunto de datos.<br>\n",
    "Identificar los vecinos más cercanos: Se seleccionan los K puntos más cercanos al nuevo punto de datos.<br>\n",
    "Asignar una clase: Se asigna al nuevo punto de datos la clase más común entre sus K vecinos más cercanos.<br>\n",
    "\n",
    "`EJEMPLOS DE USO`\n",
    "<br>\n",
    "Recomendación de productos: Un sitio web de comercio electrónico podría utilizar KNN para recomendar productos a un usuario en función de los productos que ha comprado o visto anteriormente."
   ]
  },
  {
   "cell_type": "code",
   "execution_count": null,
   "metadata": {},
   "outputs": [],
   "source": [
    "!pip3 install numpy pandas matplotlib scikit-learn imbalanced-learn"
   ]
  },
  {
   "cell_type": "code",
   "execution_count": null,
   "metadata": {},
   "outputs": [],
   "source": [
    "import numpy as np\n",
    "import pandas as pd\n",
    "import matplotlib.pyplot as plt\n",
    "from sklearn.datasets import load_iris\n",
    "from sklearn.model_selection import train_test_split\n",
    "from sklearn.preprocessing import StandardScaler\n",
    "from sklearn.decomposition import PCA\n",
    "from sklearn.neighbors import KNeighborsClassifier\n",
    "from sklearn.metrics import accuracy_score, confusion_matrix, classification_report"
   ]
  },
  {
   "cell_type": "code",
   "execution_count": null,
   "metadata": {},
   "outputs": [],
   "source": [
    "iris = load_iris()\n",
    "X = iris.data  # Usar las cuatro características\n",
    "y = iris.target\n",
    "\n",
    "# Crear un DataFrame para visualizar mejor\n",
    "df = pd.DataFrame(X, columns=iris.feature_names)\n",
    "df['target'] = y\n",
    "df.head()"
   ]
  },
  {
   "cell_type": "code",
   "execution_count": null,
   "metadata": {},
   "outputs": [],
   "source": [
    "# Normalizar los datos\n",
    "scaler = StandardScaler()\n",
    "X_scaled = scaler.fit_transform(X)\n",
    "\n",
    "# Mostrar las primeras filas de los datos escalados\n",
    "pd.DataFrame(X_scaled, columns=iris.feature_names).head()\n",
    "\n",
    "# Dividir los datos en conjuntos de entrenamiento y prueba\n",
    "X_train, X_test, y_train, y_test = train_test_split(X_scaled, y, test_size=0.3, random_state=42)"
   ]
  },
  {
   "cell_type": "code",
   "execution_count": null,
   "metadata": {},
   "outputs": [],
   "source": [
    "# Definir el modelo KNN\n",
    "knn = KNeighborsClassifier(n_neighbors=5)\n",
    "\n",
    "# Entrenar el modelo\n",
    "knn.fit(X_train, y_train)"
   ]
  },
  {
   "cell_type": "code",
   "execution_count": null,
   "metadata": {},
   "outputs": [],
   "source": [
    "# Predecir con el conjunto de prueba\n",
    "y_pred = knn.predict(X_test)\n",
    "\n",
    "# Evaluar la precisión\n",
    "accuracy = accuracy_score(y_test, y_pred)\n",
    "print(f'Precisión: {accuracy:.2f}')\n",
    "\n",
    "# Matriz de confusión\n",
    "conf_matrix = confusion_matrix(y_test, y_pred)\n",
    "print('Matriz de Confusión:\\n', conf_matrix)\n",
    "\n",
    "# Informe de clasificación\n",
    "class_report = classification_report(y_test, y_pred, target_names=iris.target_names)\n",
    "print('Informe de Clasificación:\\n', class_report)"
   ]
  },
  {
   "cell_type": "code",
   "execution_count": null,
   "metadata": {},
   "outputs": [],
   "source": [
    "# Aplicar PCA para reducir la dimensionalidad a 2D para visualización\n",
    "pca = PCA(n_components=2)\n",
    "X_pca = pca.fit_transform(X_scaled)\n",
    "\n",
    "# Entrenar el modelo KNN nuevamente con los datos transformados para la visualización\n",
    "X_train_pca, X_test_pca, _, _ = train_test_split(X_pca, y, test_size=0.3, random_state=42)\n",
    "knn_pca = KNeighborsClassifier(n_neighbors=5)\n",
    "knn_pca.fit(X_train_pca, y_train)\n",
    "\n",
    "# Crear una malla de puntos para dibujar el contorno\n",
    "x_min, x_max = X_pca[:, 0].min() - 1, X_pca[:, 0].max() + 1\n",
    "y_min, y_max = X_pca[:, 1].min() - 1, X_pca[:, 1].max() + 1\n",
    "xx, yy = np.meshgrid(np.arange(x_min, x_max, 0.01), np.arange(y_min, y_max, 0.01))\n",
    "\n",
    "# Predecir en toda la malla\n",
    "Z = knn_pca.predict(np.c_[xx.ravel(), yy.ravel()])\n",
    "Z = Z.reshape(xx.shape)\n",
    "\n",
    "# Dibujar el contorno y puntos\n",
    "plt.figure(figsize=(8, 6))\n",
    "plt.contourf(xx, yy, Z, alpha=0.3, cmap=plt.cm.RdYlBu)\n",
    "scatter = plt.scatter(X_pca[:, 0], X_pca[:, 1], c=y, s=30, edgecolor='k', cmap=plt.cm.RdYlBu)\n",
    "\n",
    "# Añadir etiquetas\n",
    "plt.xlabel('Componente Principal 1')\n",
    "plt.ylabel('Componente Principal 2')\n",
    "plt.title('KNN: Contorno de Decisión (PCA)')\n",
    "\n",
    "print(scatter.legend_elements()[0])\n",
    "# plt.legend(handles=scatter.legend_elements()[0], labels=iris.target_names)\n",
    "plt.show()\n"
   ]
  },
  {
   "cell_type": "code",
   "execution_count": null,
   "metadata": {},
   "outputs": [],
   "source": [
    "# Importar librerías necesarias\n",
    "import numpy as np\n",
    "import pandas as pd\n",
    "from sklearn.neighbors import NearestNeighbors\n",
    "\n",
    "# Crear un conjunto de datos de ejemplo\n",
    "productos = {\n",
    "    'Producto': ['Laptop', 'Teléfono', 'Tablet', 'Smartwatch', 'Auriculares', 'TV'],\n",
    "    'Precio': [1000, 800, 500, 300, 200, 150],\n",
    "    'Popularidad': [10, 8, 6, 4, 2, 1]\n",
    "}\n",
    "df_productos = pd.DataFrame(productos)\n",
    "\n",
    "# Crear un conjunto de datos de ejemplo de compras del usuario\n",
    "compras_usuario = {\n",
    "    'Producto': ['Laptop', 'Teléfono', 'Auriculares']\n",
    "}\n",
    "df_compras_usuario = pd.DataFrame(compras_usuario)\n",
    "\n",
    "# Definir una función para recomendar productos al usuario utilizando KNN\n",
    "def recomendar_productos(df_productos, df_compras_usuario, k=3):\n",
    "    # Preprocesamiento de datos\n",
    "    X = df_productos[['Precio', 'Popularidad']]\n",
    "    y = df_productos['Producto']\n",
    "    X_usuario = df_compras_usuario.merge(df_productos, on='Producto', how='left')[['Precio', 'Popularidad']].fillna(0)\n",
    "    \n",
    "    # Entrenar el modelo KNN\n",
    "    modelo_knn = NearestNeighbors(n_neighbors=k)\n",
    "    \n",
    "    modelo_knn.fit(X)\n",
    "    \n",
    "    # Encontrar los k vecinos más cercanos\n",
    "    _, indices = modelo_knn.kneighbors(X_usuario)\n",
    "    print(modelo_knn.kneighbors(X_usuario))\n",
    "    \n",
    "    # Mostrar los productos recomendados\n",
    "    print(\"Productos recomendados:\")\n",
    "    for i in indices[0]:\n",
    "        print(\"- {}\".format(df_productos.iloc[i]['Producto']))\n",
    "\n",
    "# Llamar a la función de recomendación de productos\n",
    "recomendar_productos(df_productos, df_compras_usuario, k=3)"
   ]
  }
 ],
 "metadata": {
  "kernelspec": {
   "display_name": "Python 3",
   "language": "python",
   "name": "python3"
  },
  "language_info": {
   "codemirror_mode": {
    "name": "ipython",
    "version": 3
   },
   "file_extension": ".py",
   "mimetype": "text/x-python",
   "name": "python",
   "nbconvert_exporter": "python",
   "pygments_lexer": "ipython3",
   "version": "3.11.4"
  },
  "orig_nbformat": 4
 },
 "nbformat": 4,
 "nbformat_minor": 2
}
