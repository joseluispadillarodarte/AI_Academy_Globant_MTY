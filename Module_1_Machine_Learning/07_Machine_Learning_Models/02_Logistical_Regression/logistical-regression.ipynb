{
 "cells": [
  {
   "cell_type": "markdown",
   "metadata": {},
   "source": [
    "### **Regresion Lineal y Logistica**\n",
    "\n",
    "En el contexto de la IA y el aprendizaje automático, tanto la regresión lineal como la logística son técnicas esenciales.\n",
    "Se utilizan para entrenar modelos predictivos a partir de datos históricos, que luego pueden hacer predicciones o clasificaciones en nuevos datos."
   ]
  },
  {
   "cell_type": "markdown",
   "metadata": {},
   "source": [
    "### **Regresion Logistica**\n",
    "\n",
    "Se utiliza para modelar la relacion entre dos o más variables (1 dependiente y 1 o más independientes)\n",
    "La principal diferencia entre la logistica y la lineal es que la variable dependiente de la logistica es binaria (si o no)\n",
    "Los ejemplos máa comunes de uso son las predicciones o tendencias\n",
    "\n",
    "En el caso de prediccion de precio de casas, podemos considerar diferentes variables independientes:\n",
    "- Número de cuartos\n",
    "- Metros cuadrados\n",
    "- Número de pisos\n",
    "\n",
    "La variable dependiente, podría si el precio de la casa es caro o no, para que de esta manera nuestra variable independiente sea binaria\n",
    "\n",
    "La regresión logística, nos sirve en este caso para predecir si el precio de la casa es muy alto no. Basándonos en estas variables, analizamos cierta cantidad de datos (mientras más mejor) para de esta manera encontrar una relación y poder contestar la pregunta si el precio es o no es alto\n",
    "\n",
    "En el siguiente ejercicio podemos ver como funcionan las variables dependientes e independientes, la división entre datos de entrenamiiento y prueba y también ver el resultado del modelo y la exactitud de las predcciones.\n"
   ]
  },
  {
   "cell_type": "code",
   "execution_count": null,
   "metadata": {},
   "outputs": [],
   "source": [
    "!pip3 install numpy pandas matplotlib scikit-learn"
   ]
  },
  {
   "cell_type": "code",
   "execution_count": null,
   "metadata": {},
   "outputs": [],
   "source": [
    "# Importar las bibliotecas\n",
    "import numpy as np\n",
    "import pandas as pd\n",
    "import matplotlib.pyplot as plt\n",
    "from sklearn.linear_model import LogisticRegression\n",
    "from sklearn.model_selection import train_test_split\n",
    "from sklearn.metrics import confusion_matrix, classification_report, accuracy_score\n",
    "\n",
    "print(\"Todas las bibliotecas se importaron correctamente.\")"
   ]
  },
  {
   "cell_type": "code",
   "execution_count": null,
   "metadata": {},
   "outputs": [],
   "source": [
    "# Generar datos sintéticos\n",
    "np.random.seed(0)\n",
    "n = 100\n",
    "\n",
    "# Especificamos que el tamaño va de 500 a 3500 m2 y necesitamos generar n registros, en donde n = 100\n",
    "tamaño = np.random.randint(500, 3500, n)\n",
    "\n",
    "# Especificamos que el número de habitaciones es entre 1 y 5 y necesitamos generar n registros, en donde n = 100\n",
    "habitaciones = np.random.randint(1, 5, n)\n",
    "\n",
    "# 50,000 precio base, a esto hay que sumarle el extra por habitaciones y m2\n",
    "# Multiplicamos tamaño por 50, significa que cada m2 aumenta el valor e la casa por 50 unidades (pesos)\n",
    "# Multiplicamos numero de habitaciones por 10,000, significa que cada habitaicion extra, aumenta el valor de la casa por 10,000 unidades\n",
    "# Generamos un array de n (100) numeros, simulando el valor de la casa dependiendo el mercado\n",
    "precio = 50000 + (tamaño * 50) + (habitaciones * 10000) + (np.random.randn(n) * 10000)\n",
    "\n",
    "# Clasificación binaria: 1 si el precio es mayor a 200000, 0 en caso contrario\n",
    "es_cara = (precio > 200000).astype(int)\n",
    "\n",
    "# Crear DataFrame\n",
    "data = pd.DataFrame({\n",
    "    'Tamaño (pies cuadrados)': tamaño,\n",
    "    'Habitaciones': habitaciones,\n",
    "    'Precio': precio,\n",
    "    'Es cara': es_cara\n",
    "})\n",
    "\n",
    "# Guardar a CSV\n",
    "data.to_csv('clasificacion_casas.csv', index=False)"
   ]
  },
  {
   "cell_type": "code",
   "execution_count": null,
   "metadata": {},
   "outputs": [],
   "source": [
    "# Cargar datos\n",
    "data = pd.read_csv('clasificacion_casas.csv')\n",
    "\n",
    "# Mostrar las primeras filas\n",
    "print(data.head())\n",
    "\n",
    "# Estadísticas descriptivas\n",
    "# count: valores no nulos\n",
    "# mean: promedio (suma de los valores de cada columna entre numero de filas)\n",
    "# std: desviación estandar\n",
    "# min: valor minimo por columna\n",
    "# 25%: el 25% de las casa están por debajo de esos valores\n",
    "# 50%: el 50% de las casa están por debajo de esos valores\n",
    "# 75%: el 75% de las casa están por debajo de esos valores\n",
    "# max: valor máximo por columna\n",
    "print(data.describe())"
   ]
  },
  {
   "cell_type": "code",
   "execution_count": null,
   "metadata": {},
   "outputs": [],
   "source": [
    "# Relación entre tamaño y si es cara\n",
    "plt.scatter(data['Tamaño (pies cuadrados)'], data['Es cara'])\n",
    "plt.xlabel('Tamaño (pies cuadrados)')\n",
    "plt.ylabel('Es cara')\n",
    "plt.title('Relación entre Tamaño y si es Cara')\n",
    "plt.show()\n",
    "\n",
    "# Relación entre habitaciones y si es cara\n",
    "plt.scatter(data['Habitaciones'], data['Es cara'])\n",
    "plt.xlabel('Habitaciones')\n",
    "plt.ylabel('Es cara')\n",
    "plt.title('Relación entre Habitaciones y si es Cara')\n",
    "plt.show()\n",
    "\n",
    "# Las siguientes gráficas muestran cuáles casas son caras (1) o no (0), dependiendo de las variables independientes (tamaño y número de habitaciones respectivamente)"
   ]
  },
  {
   "cell_type": "code",
   "execution_count": null,
   "metadata": {},
   "outputs": [],
   "source": [
    "# train_test_split: se utiliza para dividir un conjunto de datos dos subconjuntos, uno para entrenamiento y otro para prueba\n",
    "\n",
    "# variables independientes\n",
    "X = data[['Tamaño (pies cuadrados)', 'Habitaciones']]\n",
    "\n",
    "# variables dependientes o target, en regresión logistica tiene que ser binario 1 o 0\n",
    "y = data['Es cara']\n",
    "\n",
    "# Dividir en conjuntos de entrenamiento y prueba\n",
    "# X variables que se usarán para la predicción\n",
    "# y variable que queremos predecir\n",
    "# test_size=0.2: indica que usaremos el 20% de los datos para el conjunto de prueb  a y el 80% para el conjunto de entrenamiento\n",
    "# Conjunto de entrenamiento se usa para entrenar el modelo, se usa para enseñar al modelo la relacion entre los patrones en los datos (mientras mas, mejor)\n",
    "# Conjunto de prueba se usa para comparar las predicciones y ver que tan acertadas son\n",
    "X_train, X_test, y_train, y_test = train_test_split(X, y, test_size=0.2, random_state=0)"
   ]
  },
  {
   "cell_type": "code",
   "execution_count": null,
   "metadata": {},
   "outputs": [],
   "source": [
    "# Crear el modelo\n",
    "modelo = LogisticRegression()\n",
    "\n",
    "# Entrenar el modelo\n",
    "modelo.fit(X_train, y_train)\n",
    "\n",
    "# Coeficientes del modelo\n",
    "# Intercepto: Representa la probabilidad de si una casa es cara o no cuando los m2 y habitaciones son 0\n",
    "# Coeficientes\n",
    "# Coeficiente para Tamaño (0.0117012): Un incremento de un pie cuadrado en el tamaño de la casa aumenta ligeramente \n",
    "# las probabilidades de que la casa sea clasificada como cara, con un aumento de aproximadamente un 1.17% \n",
    "# en las probabilidades por cada pie cuadrado adicional.\n",
    "# Coeficiente para Habitaciones (1.30764309): Un incremento de una habitación en la casa aumenta significativamente\n",
    "# las probabilidades de que la casa sea clasificada como cara, multiplicando las probabilidades por\n",
    "# aproximadamente 3.697 (o aumentando las probabilidades en un 269.7%) por cada habitación adicional.\n",
    "print(\"Intercepto:\", modelo.intercept_)\n",
    "print(\"Coeficientes:\", modelo.coef_)"
   ]
  },
  {
   "cell_type": "code",
   "execution_count": null,
   "metadata": {},
   "outputs": [],
   "source": [
    "# Predecir en el conjunto de prueba\n",
    "y_pred = modelo.predict(X_test)\n",
    "\n",
    "# Evaluar el modelo\n",
    "# Matriz de Confusión: muestra el rendimiento del modelo de clasificación comparando las predicciones del modelo \n",
    "# con los valores verdaderos (reales) de los datos de prueba.\n",
    "\n",
    "# [[12  0]\n",
    "# [ 2  6]]\n",
    "# Matriz de confusion:\n",
    "# True Positives (TP): 6 (número de veces que el modelo predijo correctamente que una casa es cara).\n",
    "# True Negatives (TN): 12 (número de veces que el modelo predijo correctamente que una casa no es cara).\n",
    "# False Positives (FP): 0 (número de veces que el modelo predijo incorrectamente que una casa es cara cuando no lo es).\n",
    "# False Negatives (FN): 2 (número de veces que el modelo predijo incorrectamente que una casa no es cara cuando en realidad sí lo es).\n",
    "\n",
    "# Reporte de Clasificación:\n",
    "#    class   precision  recall   f1-score   support\n",
    "#      0       0.86      1.00      0.92        12\n",
    "#      1       1.00      0.75      0.86         8\n",
    "\n",
    "# Clase 0 (no es cara):\n",
    "# Precisión (precision): 0.86 (el 86% de las predicciones de que una casa no es cara fueron correctas).\n",
    "# Recall (recall): 1.00 (el modelo identificó correctamente el 100% de las casas que no son caras).\n",
    "# F1-score: 0.92 (la media  de la precisión y el recall).\n",
    "\n",
    "# Clase 1 (es cara):\n",
    "# Precisión (precision): 1.00 (el 100% de las predicciones de que una casa es cara fueron correctas).\n",
    "# Recall (recall): 0.75 (el modelo identificó correctamente el 75% de las casas que son caras).\n",
    "# F1-score: 0.86 (la media de la precisión y el recall).\n",
    "\n",
    "\n",
    "conf_matrix = confusion_matrix(y_test, y_pred)\n",
    "class_report = classification_report(y_test, y_pred)\n",
    "accuracy = accuracy_score(y_test, y_pred)\n",
    "\n",
    "print(\"Matriz de Confusión:\\n\", conf_matrix)\n",
    "print(\"Reporte de Clasificación:\\n\", class_report)\n",
    "print(\"Precisión:\", accuracy)"
   ]
  },
  {
   "cell_type": "code",
   "execution_count": null,
   "metadata": {},
   "outputs": [],
   "source": [
    "# Visualizar la matriz de confusión\n",
    "# El siguiente gráfico proporciona una representacion visual de la matriz de confusión, en donde\n",
    "# por medio del color code podemos ver más rápidamente la precision, donde:\n",
    "# [TN  FP]\n",
    "# [FN  TP]\n",
    "# True Positives (TP): 6 (número de veces que el modelo predijo correctamente que una casa es cara).\n",
    "# True Negatives (TN): 12 (número de veces que el modelo predijo correctamente que una casa no es cara).\n",
    "# False Positives (FP): 0 (número de veces que el modelo predijo incorrectamente que una casa es cara cuando no lo es).\n",
    "# False Negatives (FN): 2 (número de veces que el modelo predijo incorrectamente que una casa no es cara cuando en realidad sí lo es).\n",
    "plt.matshow(conf_matrix, cmap=plt.cm.Blues)\n",
    "plt.title('Matriz de Confusión')\n",
    "plt.colorbar()\n",
    "plt.ylabel('Etiqueta Real')\n",
    "plt.xlabel('Etiqueta Predicha')\n",
    "plt.show()"
   ]
  }
 ],
 "metadata": {
  "kernelspec": {
   "display_name": "Python 3",
   "language": "python",
   "name": "python3"
  },
  "language_info": {
   "codemirror_mode": {
    "name": "ipython",
    "version": 3
   },
   "file_extension": ".py",
   "mimetype": "text/x-python",
   "name": "python",
   "nbconvert_exporter": "python",
   "pygments_lexer": "ipython3",
   "version": "3.11.4"
  },
  "orig_nbformat": 4
 },
 "nbformat": 4,
 "nbformat_minor": 2
}
