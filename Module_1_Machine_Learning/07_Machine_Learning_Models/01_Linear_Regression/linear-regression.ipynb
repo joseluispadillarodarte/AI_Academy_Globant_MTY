{
 "cells": [
  {
   "cell_type": "markdown",
   "metadata": {},
   "source": [
    "### **Regresion Lineal y Logistica**\n",
    "\n",
    "En el contexto de la IA y el aprendizaje automático, tanto la regresión lineal como la logística son técnicas esenciales.\n",
    "Se utilizan para entrenar modelos predictivos a partir de datos históricos, que luego pueden hacer predicciones o clasificaciones en nuevos datos."
   ]
  },
  {
   "cell_type": "markdown",
   "metadata": {},
   "source": [
    "### **Regresion Lineal**\n",
    "\n",
    "Se utiliza para modelar la relacion entre dos o más variables (1 dependiente y 1 o más independientes)\n",
    "Los ejemplos máa comunes de uso son las predicciones o tendencias\n",
    "\n",
    "En el caso de prediccion de precio de casas, podemos considerar diferentes variables independientes:\n",
    "- Número de cuartos\n",
    "- Metros cuadrados\n",
    "- Número de pisos\n",
    "\n",
    "La variable dependiente, podría ser el precio, el cual va a depender de otros factores, como el valor actual del mercado, ubicación, etc.\n",
    "\n",
    "La regresión lineal, nos sirve en este caso para predecir el precio de la casa. Basándose en estas variables, va a analizar cierta cantidad de datos (mientras más mejor) para de esta manera encontrar una relación y poder predecir el precio de la casa de una manera certera.\n",
    "\n",
    "En el siguiente ejercicio podemos ver como funcionan las variables dependientes e independientes, la división entre datos de entrenamiiento y prueba y también ver el resultado del modelo y la exactitud de las predcciones.\n"
   ]
  },
  {
   "cell_type": "code",
   "execution_count": null,
   "metadata": {},
   "outputs": [],
   "source": [
    "!pip3 install numpy pandas matplotlib scikit-learn"
   ]
  },
  {
   "cell_type": "code",
   "execution_count": null,
   "metadata": {},
   "outputs": [],
   "source": [
    "import numpy as np\n",
    "import pandas as pd\n",
    "import matplotlib.pyplot as plt\n",
    "from sklearn.linear_model import LinearRegression\n",
    "from sklearn.model_selection import train_test_split\n",
    "from sklearn.metrics import mean_squared_error, r2_score\n",
    "\n",
    "print(\"Todas las bibliotecas se importaron correctamente.\")"
   ]
  },
  {
   "cell_type": "code",
   "execution_count": null,
   "metadata": {},
   "outputs": [],
   "source": [
    "# Generar datos sintéticos\n",
    "np.random.seed(0)\n",
    "n = 100\n",
    "\n",
    "# Especificamos que el tamaño va de 500 a 3500 m2 y necesitamos generar n registros, en donde n = 100\n",
    "tamaño = np.random.randint(500, 3500, n)\n",
    "\n",
    "# Especificamos que el número de habitaciones es entre 1 y 5 y necesitamos generar n registros, en donde n = 100\n",
    "habitaciones = np.random.randint(1, 5, n)\n",
    "\n",
    "# 50,000 precio base, a esto hay que sumarle el extra por habitaciones y m2\n",
    "# Multiplicamos tamaño por 50, significa que cada m2 aumenta el valor e la casa por 50 unidades (pesos)\n",
    "# Multiplicamos numero de habitaciones por 10,000, significa que cada habitaicion extra, aumenta el valor de la casa por 10,000 unidades\n",
    "# Generamos un array de n (100) numeros, simulando el valor de la casa dependiendo el mercado\n",
    "precio = 50000 + (tamaño * 50) + (habitaciones * 10000) + (np.random.randn(n) * 10000)\n",
    "\n",
    "# Crear columnas (headers) con sus valores\n",
    "data = pd.DataFrame({\n",
    "    'Tamaño (pies cuadrados)': tamaño,\n",
    "    'Habitaciones': habitaciones,\n",
    "    'Precio': precio\n",
    "})\n",
    "\n",
    "# Redondear todos los valores a 0 decimales\n",
    "data = data.round(0)\n",
    "\n",
    "# Guardar a CSV\n",
    "data.to_csv('precios_casas.csv', index=False)\n"
   ]
  },
  {
   "cell_type": "code",
   "execution_count": null,
   "metadata": {},
   "outputs": [],
   "source": [
    "# Cargar datos\n",
    "data = pd.read_csv('precios_casas.csv')\n",
    "\n",
    "# Mostrar las primeras filas\n",
    "print(data.head())\n",
    "\n",
    "# Estadísticas descriptivas\n",
    "# count: valores no nulos\n",
    "# mean: promedio (suma de los valores de cada columna entre numero de filas)\n",
    "# std: desviación estandar\n",
    "# min: valor minimo por columna\n",
    "# 25%: el 25% de las casa están por debajo de esos valores\n",
    "# 50%: el 50% de las casa están por debajo de esos valores\n",
    "# 75%: el 75% de las casa están por debajo de esos valores\n",
    "# max: valor máximo por columna\n",
    "print(data.describe())"
   ]
  },
  {
   "cell_type": "code",
   "execution_count": null,
   "metadata": {},
   "outputs": [],
   "source": [
    "# Relación entre tamaño y precio\n",
    "plt.scatter(data['Tamaño (pies cuadrados)'], data['Precio'])\n",
    "plt.xlabel('Tamaño (pies cuadrados)')\n",
    "plt.ylabel('Precio')\n",
    "plt.title('Relación entre Tamaño y Precio')\n",
    "plt.show()\n",
    "\n",
    "# Relación entre habitaciones y precio\n",
    "plt.scatter(data['Habitaciones'], data['Precio'])\n",
    "plt.xlabel('Habitaciones')\n",
    "plt.ylabel('Precio')\n",
    "plt.title('Relación entre Habitaciones y Precio')\n",
    "plt.show()\n",
    "\n",
    "# Las siguientes gráficas muestran la relación del precio de las casas y el tamaño y número de habitaciones respectivamente"
   ]
  },
  {
   "cell_type": "code",
   "execution_count": null,
   "metadata": {},
   "outputs": [],
   "source": [
    "# train_test_split: se utiliza para dividir un conjunto de datos en dos subconjuntos, uno para entrenamiento y otro para prueba\n",
    "\n",
    "# variables independientes\n",
    "X = data[['Tamaño (pies cuadrados)', 'Habitaciones']]\n",
    "# variables dependientes o target, lo que se desea predecir\n",
    "y = data['Precio']\n",
    "\n",
    "# Dividir en conjuntos de entrenamiento y prueba\n",
    "# X variables que se usarán para la predicción\n",
    "# y variable que queremos predecir\n",
    "# test_size=0.2: indica que usaremos el 20% de los datos para el conjunto de prueb  a y el 80% para el conjunto de entrenamiento\n",
    "# Conjunto de entrenamiento se usa para entrenar el modelo, se usa para enseñar al modelo la relacion entre los patrones en los datos (mientras más, mejor)\n",
    "# Conjunto de prueba se usa para comparar las predicciones con los datos reales y ver que tan acertadas son.\n",
    "X_train, X_test, y_train, y_test = train_test_split(X, y, test_size=0.2, random_state=0)\n"
   ]
  },
  {
   "cell_type": "code",
   "execution_count": null,
   "metadata": {},
   "outputs": [],
   "source": [
    "# Crear el modelo\n",
    "modelo = LinearRegression()\n",
    "\n",
    "# Entrenar el modelo\n",
    "modelo.fit(X_train, y_train)\n",
    "\n",
    "# Coeficientes del modelo\n",
    "# Intercepto: Representa el valor de la casa cuando las variables independientes son 0\n",
    "# Coeficientes: Indican cuánto aumenta el precio en PROMEDIO dependiendo de las variables independientes (no. de cuartos y tamaño)\n",
    "#   si los coeficientes son positivos, significa que el precio aumentara, si son negativos, el precio baja\n",
    "print(\"Intercepto:\", modelo.intercept_)\n",
    "print(\"Coeficientes:\", modelo.coef_)\n"
   ]
  },
  {
   "cell_type": "code",
   "execution_count": null,
   "metadata": {},
   "outputs": [],
   "source": [
    "# Predecir en el conjunto de prueba\n",
    "# Aquí utilizamos el modelo que entrenamos en el paso anterior para hacer las predicciones basado en los conjuntos de prueba creados anteriormente (X_test)\n",
    "# El método predict genera las predicciones del modelo para estas entradas, y el resultado se guarda en y_pred.\n",
    "y_pred = modelo.predict(X_test)\n",
    "\n",
    "# Evaluar el modelo\n",
    "# El MSE mide la media de los cuadrados de los errores, es decir, la diferencia promedio al cuadrado entre los valores reales y los predichos. \n",
    "# Una MSE más baja indica que el modelo está haciendo predicciones más cercanas a los valores reales.\n",
    "mse = mean_squared_error(y_test, y_pred)\n",
    "\n",
    "# El r2, nos dice qué proporción de la variabilidad en la variable que estás tratando de predecir (el precio de la casa) es explicada\n",
    "# por las variables que estás usando para hacer la predicción (número de cuartos y tamaño).\n",
    "\n",
    "# Un r2 de 1 indica que el modelo predice perfectamente los valores observados, mientras más cercano a uno, es más acertado\n",
    "# Un r2 de 0 significa que el modelo no explica nada de la variabilidad en la variable dependiente.\n",
    "r2 = r2_score(y_test, y_pred)\n",
    "\n",
    "print(\"Error Cuadrático Medio (MSE):\", mse)\n",
    "print(\"Coeficiente de Determinación (R^2):\", r2)\n"
   ]
  },
  {
   "cell_type": "code",
   "execution_count": null,
   "metadata": {},
   "outputs": [],
   "source": [
    "plt.scatter(y_test, y_pred, alpha=0.5)\n",
    "plt.xlabel('Valores Reales')\n",
    "plt.ylabel('Predicciones')\n",
    "plt.title('Valores Reales vs Predicciones')\n",
    "\n",
    "\n",
    "# overfitting: Ocurre cuando un modelo es demasiado complejo y se ajusta demasiado bien a los datos de entrenamiento. \n",
    "#              El overfitting podría ocurrir si agregamos demasiadas variables (parámetros) o características al modelo.\n",
    "#              Los síntomas del overfitting incluyen:\n",
    "#                - Bajo error en los datos de entrenamiento.\n",
    "#                - Alto error en los datos de prueba.\n",
    "\n",
    "# underfitting: Ocurre cuando un modelo es demasiado simple para capturar la estructura subyacente en los datos. \n",
    "#               En otras palabras, el modelo no se ajusta bien ni a los datos de entrenamiento ni a los de prueba. \n",
    "#               Esto puede deberse a que el modelo tiene muy pocos parámetros o a que no ha capturado la complejidad necesaria del problema.\n",
    "#               Los síntomas del underfitting incluyen:\n",
    "#               - Alto error en los datos de entrenamiento.\n",
    "#               - Alto error en los datos de prueba.\n",
    "\n",
    "# Agregar línea de referencia perfecta (y = x)\n",
    "plt.plot([y_test.min(), y_test.max()], [y_test.min(), y_test.max()], color='red')\n",
    "\n",
    "# Mostrar el gráfico\n",
    "plt.show()\n"
   ]
  }
 ],
 "metadata": {
  "kernelspec": {
   "display_name": "Python 3",
   "language": "python",
   "name": "python3"
  },
  "language_info": {
   "codemirror_mode": {
    "name": "ipython",
    "version": 3
   },
   "file_extension": ".py",
   "mimetype": "text/x-python",
   "name": "python",
   "nbconvert_exporter": "python",
   "pygments_lexer": "ipython3",
   "version": "3.11.4"
  },
  "orig_nbformat": 4
 },
 "nbformat": 4,
 "nbformat_minor": 2
}
