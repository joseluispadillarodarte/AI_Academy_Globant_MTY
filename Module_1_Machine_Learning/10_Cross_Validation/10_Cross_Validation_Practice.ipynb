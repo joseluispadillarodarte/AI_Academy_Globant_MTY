{
 "cells": [
  {
   "cell_type": "markdown",
   "metadata": {},
   "source": [
    "### **Implementing Cross Validation in Python**\n",
    "\n",
    "Here is an implementation for performing K-Fold Cross Validation using `scikit-learn`. Make sure you have `scikit-learn` installed before running this code.\n",
    "\n",
    "To install it:"
   ]
  },
  {
   "cell_type": "code",
   "execution_count": 1,
   "metadata": {
    "vscode": {
     "languageId": "shellscript"
    }
   },
   "outputs": [
    {
     "name": "stdout",
     "output_type": "stream",
     "text": [
      "Requirement already satisfied: scikit-learn in /usr/local/lib/python3.11/site-packages (1.5.0)\n",
      "Requirement already satisfied: numpy>=1.19.5 in /usr/local/lib/python3.11/site-packages (from scikit-learn) (1.26.4)\n",
      "Requirement already satisfied: scipy>=1.6.0 in /usr/local/lib/python3.11/site-packages (from scikit-learn) (1.13.0)\n",
      "Requirement already satisfied: joblib>=1.2.0 in /usr/local/lib/python3.11/site-packages (from scikit-learn) (1.4.2)\n",
      "Requirement already satisfied: threadpoolctl>=3.1.0 in /usr/local/lib/python3.11/site-packages (from scikit-learn) (3.5.0)\n",
      "\n",
      "\u001b[1m[\u001b[0m\u001b[34;49mnotice\u001b[0m\u001b[1;39;49m]\u001b[0m\u001b[39;49m A new release of pip is available: \u001b[0m\u001b[31;49m23.0.1\u001b[0m\u001b[39;49m -> \u001b[0m\u001b[32;49m24.0\u001b[0m\n",
      "\u001b[1m[\u001b[0m\u001b[34;49mnotice\u001b[0m\u001b[1;39;49m]\u001b[0m\u001b[39;49m To update, run: \u001b[0m\u001b[32;49mpython3.11 -m pip install --upgrade pip\u001b[0m\n",
      "Note: you may need to restart the kernel to use updated packages.\n"
     ]
    }
   ],
   "source": [
    "pip install scikit-learn"
   ]
  },
  {
   "cell_type": "markdown",
   "metadata": {},
   "source": [
    "### Explanation of the Code:\n",
    "- **Import Libraries**: Import necessary libraries including `numpy`, `pandas`, and components from `scikit-learn`.\n",
    "  \n",
    "- **Load Dataset**: Load the Iris dataset using `load_iris()` from `sklearn.datasets`.\n",
    "\n",
    "- **Create Model**: Create a logistic regression model using `LogisticRegression()` from `sklearn.linear_model`.\n",
    "\n",
    "- **Define K-Fold Cross Validation**: Use `KFold()` from `sklearn.model_selection` to define a 5-fold cross-validation iterator (`kfold`).\n",
    "\n",
    "- **Perform Cross Validation**: Use `cross_val_score()` from `sklearn.model_selection` to perform cross-validation on the model with the dataset (`X` and `y`) using the defined `kfold`.\n",
    "\n",
    "- **Print Results**: Print the cross-validation scores for each fold (`cv_results`) and the mean score across all folds (`cv_results.mean()`).\n",
    "\n",
    "### Additional Notes:\n",
    "- Ensure you have a running Jupyter Notebook environment with the necessary dependencies installed (`scikit-learn`).\n",
    "- This example demonstrates K-Fold Cross Validation specifically, but you can modify it to use other cross-validation techniques mentioned earlier (e.g., Stratified K-Fold, Leave-One-Out) by changing the `KFold` to the respective method from `sklearn.model_selection`.\n",
    "  \n",
    "This setup will help you effectively evaluate and validate machine learning models within the interactive Jupyter Notebook environment."
   ]
  },
  {
   "cell_type": "code",
   "execution_count": 2,
   "metadata": {},
   "outputs": [
    {
     "name": "stdout",
     "output_type": "stream",
     "text": [
      "Cross-validation scores: [1.         1.         0.93333333 0.96666667 0.96666667]\n",
      "Mean cross-validation score: 0.9733333333333334\n"
     ]
    }
   ],
   "source": [
    "# Import necessary libraries\n",
    "import numpy as np\n",
    "import pandas as pd\n",
    "from sklearn.model_selection import KFold, cross_val_score\n",
    "from sklearn.datasets import load_iris\n",
    "from sklearn.linear_model import LogisticRegression\n",
    "\n",
    "# Load dataset\n",
    "iris = load_iris()\n",
    "X = iris.data\n",
    "y = iris.target\n",
    "\n",
    "# Create a logistic regression model\n",
    "model = LogisticRegression(max_iter=200)\n",
    "\n",
    "# Define K-Fold cross-validation\n",
    "kfold = KFold(n_splits=5, shuffle=True, random_state=42)\n",
    "\n",
    "# Perform K-Fold cross-validation\n",
    "cv_results = cross_val_score(model, X, y, cv=kfold)\n",
    "\n",
    "# Print the cross-validation scores\n",
    "print(\"Cross-validation scores:\", cv_results)\n",
    "print(\"Mean cross-validation score:\", cv_results.mean())"
   ]
  },
  {
   "cell_type": "markdown",
   "metadata": {},
   "source": [
    "The Python implementation of K-Fold Cross Validation using `scikit-learn` provides several key insights and learnings:\n",
    "\n",
    "### 1. **Model Evaluation**\n",
    "- **Cross-validation scores**: The output `cv_results` provides a list of scores obtained for each fold during cross-validation. This helps in understanding how the model performs across different subsets of the data.\n",
    "  \n",
    "- **Mean cross-validation score**: `cv_results.mean()` gives the average score across all folds. This metric represents a more reliable estimate of model performance compared to a single train-test split because it accounts for variability in the data splits.\n",
    "\n",
    "### 2. **Model Performance**\n",
    "- **Understanding variability**: By examining the individual scores and the mean score, you can assess the consistency of the model's performance across different subsets of the data. High variability in scores might indicate that the model is sensitive to the data split, suggesting potential issues with generalization.\n",
    "\n",
    "- **Comparative analysis**: You can compare the cross-validation scores of different models or different configurations (e.g., different hyperparameters) to select the best-performing model or configuration.\n",
    "\n",
    "### 3. **Hyperparameter Tuning**\n",
    "- **Iterative improvement**: Cross-validation is often used iteratively to tune hyperparameters. By repeating the process with different parameter values and comparing the resulting scores, you can identify the optimal set of hyperparameters that maximize model performance.\n",
    "\n",
    "### 4. **Data Insights**\n",
    "- **Insights into data distribution**: Cross-validation can provide insights into how the model performs across different subsets of the data. This is particularly valuable in understanding the model's robustness and whether it generalizes well to unseen data.\n",
    "\n",
    "### 5. **Practical Considerations**\n",
    "- **Implementation considerations**: The example demonstrates how to implement cross-validation using `scikit-learn` efficiently. This knowledge is applicable across various machine learning tasks and datasets.\n",
    "\n",
    "- **Scalability**: It highlights the scalability of the approach to larger datasets or more complex models, showcasing how cross-validation remains a viable method for model evaluation.\n",
    "\n",
    "### 6. **Best Practices**\n",
    "- **Best practices in model evaluation**: Using cross-validation adheres to best practices in model evaluation by providing a more accurate assessment of a model's performance compared to simpler evaluation methods.\n",
    "\n",
    "### 7. **Educational Value**\n",
    "- **Learning resource**: The code serves as an educational resource for understanding the practical application of cross-validation. It demonstrates how theoretical concepts translate into real-world implementation using Python and `scikit-learn`.\n",
    "\n",
    "In summary, the Python implementation of cross-validation helps in evaluating model performance rigorously, optimizing hyperparameters effectively, gaining insights into data characteristics, and adhering to best practices in machine learning model evaluation. It forms a foundational step in developing robust and reliable machine learning models."
   ]
  }
 ],
 "metadata": {
  "kernelspec": {
   "display_name": "Python 3",
   "language": "python",
   "name": "python3"
  },
  "language_info": {
   "codemirror_mode": {
    "name": "ipython",
    "version": 3
   },
   "file_extension": ".py",
   "mimetype": "text/x-python",
   "name": "python",
   "nbconvert_exporter": "python",
   "pygments_lexer": "ipython3",
   "version": "3.11.4"
  }
 },
 "nbformat": 4,
 "nbformat_minor": 2
}
