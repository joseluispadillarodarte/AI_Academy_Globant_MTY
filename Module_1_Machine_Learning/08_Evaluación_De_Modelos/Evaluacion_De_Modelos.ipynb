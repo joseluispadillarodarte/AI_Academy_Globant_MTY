{
 "cells": [
  {
   "cell_type": "markdown",
   "metadata": {},
   "source": [
    "<strong>Evaluación de modelos</strong>\n",
    "\n",
    "La evaluación de modelos de IA es el proceso mediante el cual se determina la calidad, precisión y eficiencia de un modelo de IA en la resolución de tareas específicas. <br>\n",
    "Este proceso es crucial para garantizar que el modelo cumpla con los objetivos establecidos y que su desempeño sea aceptable antes de su implementación en aplicaciones reales. <be>\n"
   ]
  },
  {
   "cell_type": "markdown",
   "metadata": {},
   "source": [
    "<strong>Métricas de evaluación:</strong>\n",
    "\n",
    "Son las que que nos ayudan a evaluar o cuantificar el desempeño de nuestro modelo<br><br>\n",
    "\n",
    "- <strong>Exactitud (accuracy)</strong>: El número de predicciones correctas en relación con el total de predicciones hechas por el modelo. Se calcula con la siguiente fórmula\n",
    "$$\n",
    "\\text{Exactitud} = \\frac{\\text{Número de predicciones correctas}}{\\text{Total de predicciones}}\n",
    "$$\n",
    "<br>​\n",
    "- <strong>Precisión (Precision):</strong> La proporción de verdaderos positivos entre las predicciones positivas.\n",
    "$$\n",
    "\\text{Precisión} = \\frac{\\text{Verdaderos positivos}}{\\text{Verdaderos positivos + Falsos positivos}}\n",
    "$$\n",
    "<br>​\n",
    "- <strong>Recall (Sensibilidad):</strong> La proporción de verdaderos positivos detectados entre todos los positivos reales.\n",
    "$$\n",
    "\\text{Recall} = \\frac{\\text{Verdaderos positivos}}{\\text{Verdaderos positivos + Falsos negativos}}\n",
    "$$\n",
    "<br>​\n",
    "- <strong>F1-Score:</strong> La media armónica de la precisión y el recall.\n",
    "$$\n",
    "\\text{F1-Score} = 2 * \\frac{\\text{Precisón * Recall}}{\\text{Precisión + Recall}}\n",
    "$$"
   ]
  },
  {
   "cell_type": "markdown",
   "metadata": {},
   "source": [
    "<strong>Conjuntos de Datos de Evaluación:</strong>\n",
    "<br>\n",
    "<br>\n",
    "Para evaluar el modelo tenemos que dividir los datos en 3 subconjuntos\n",
    "<br>\n",
    "- <strong>Datos de entrenamiento:</strong> Son los datos que se usan para evaluar el modelo\n",
    "<br>\n",
    "<br>\n",
    "- <strong>Datos de Validación:</strong> Utilizados para ajustar hiperparámetros y evitar el sobreajuste.\n",
    "<br>\n",
    "<br>\n",
    "- <strong>Datos de Prueba:</strong> Se usan para comparar los datos arrojados por el modelo contra este conjunto para determinar la certeza\n",
    "<br>"
   ]
  },
  {
   "cell_type": "markdown",
   "metadata": {},
   "source": [
    "<strong>Validación cruzada:</strong>\n",
    "<br>\n",
    "<br>\n",
    "Es una técnica que se utiliza con conjuntos de datos pequeños, estos datos se dividen en subconjuntos. Cada subconjunto se divide en datos de entrenamiento y datos de prueba y se entrena el modelo varias con estos datos.\n",
    "<br><br>\n",
    "Esto se hace para cada uno de los subconjuntos para garantizar que la predicción sea lo más fiable posible."
   ]
  },
  {
   "cell_type": "markdown",
   "metadata": {},
   "source": [
    "<strong>Sesgo - Varianza</strong>\n",
    "- <strong>Sesgo:</strong> Errores introducidos por las suposiciones simplificadas que un modelo hace para aprender la relación entre los datos y el objetivo.\n",
    "Generalmente ocurre cuando un modelo es demasiado simple para capturar la complejidad de los datos\n",
    "<br>\n",
    "<br>\n",
    "- <strong>Varianza:</strong> Mide la cantidad de error que se debe a la sensibilidad del modelo a las variaciones en el conjunto de datos de entrenamiento.\n",
    "Generalmente ocurre cuando un modelo es demasiado complejo y se ajusta demasiado a las particularidades del conjunto de datos de entrenamiento\n"
   ]
  },
  {
   "cell_type": "markdown",
   "metadata": {},
   "source": [
    "<strong>Evaluación continua</strong>\n",
    "\n",
    "En aplicaciones de IA, es importante evaluar el modelo continuamente para ajustar el modelo dependiendo de los datos y el objetivo"
   ]
  },
  {
   "cell_type": "markdown",
   "metadata": {},
   "source": [
    "<strong>Benchmarking</strong>\n",
    "\n",
    "Comparar el modelo contra modelos estándar o métodos conocidos en el campo para determinar su competitividad."
   ]
  },
  {
   "cell_type": "markdown",
   "metadata": {},
   "source": [
    "<strong>Equidad y Ética</strong>\n",
    "\n",
    "- <strong>Equidad:</strong> Garantizar que el modelo no discrimine contra ciertos grupos demográficos.\n",
    "<br>\n",
    "<br>\n",
    "- <strong>Ética:</strong> Evaluar las implicaciones éticas del uso del modelo.\n"
   ]
  }
 ],
 "metadata": {
  "kernelspec": {
   "display_name": "Python 3",
   "language": "python",
   "name": "python3"
  },
  "language_info": {
   "codemirror_mode": {
    "name": "ipython",
    "version": 3
   },
   "file_extension": ".py",
   "mimetype": "text/x-python",
   "name": "python",
   "nbconvert_exporter": "python",
   "pygments_lexer": "ipython3",
   "version": "3.11.4"
  },
  "orig_nbformat": 4
 },
 "nbformat": 4,
 "nbformat_minor": 2
}
