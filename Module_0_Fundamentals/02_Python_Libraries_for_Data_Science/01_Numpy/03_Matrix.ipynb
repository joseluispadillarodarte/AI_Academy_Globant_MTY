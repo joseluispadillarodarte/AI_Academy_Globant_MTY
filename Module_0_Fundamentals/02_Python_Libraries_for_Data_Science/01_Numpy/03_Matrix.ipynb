{
 "cells": [
  {
   "cell_type": "markdown",
   "metadata": {},
   "source": [
    "# Understanding Matrices:\n",
    "\n",
    "In mathematics, a matrix is a rectangular array of numbers arranged in rows and columns. Matrices are extensively used in various fields such as physics, engineering, computer graphics, and machine learning. NumPy provides robust support for working with matrices through its array objects and specialized functions."
   ]
  },
  {
   "cell_type": "markdown",
   "metadata": {},
   "source": [
    "### Creating Matrices:\n",
    "\n",
    "In NumPy, matrices are represented as 2D arrays. You can create matrices using the np.array() function or specialized functions like np.zeros(), np.ones(), and np.random.rand():"
   ]
  },
  {
   "cell_type": "code",
   "execution_count": 1,
   "metadata": {},
   "outputs": [],
   "source": [
    "import numpy as np\n",
    "\n",
    "# Create a 2x3 matrix\n",
    "matrix = np.array([[1, 2, 3], [4, 5, 6]])"
   ]
  },
  {
   "cell_type": "markdown",
   "metadata": {},
   "source": [
    "### Matrix Operations:\n",
    "\n",
    "1. **Matrix Multiplication:**\n",
    "Matrix multiplication is a fundamental operation in linear algebra. In NumPy, you can use the np.dot() function or the @ operator for matrix multiplication:"
   ]
  },
  {
   "cell_type": "code",
   "execution_count": 2,
   "metadata": {},
   "outputs": [],
   "source": [
    "A = np.array([[1, 2], [3, 4]])\n",
    "B = np.array([[5, 6], [7, 8]])\n",
    "\n",
    "# Matrix multiplication using np.dot()\n",
    "C = np.dot(A, B)\n",
    "\n",
    "# Matrix multiplication using @ operator\n",
    "C = A @ B"
   ]
  },
  {
   "cell_type": "markdown",
   "metadata": {},
   "source": [
    "2. **Matrix Transposition:**\n",
    "\n",
    "Matrix transposition involves swapping the rows and columns of a matrix. NumPy provides the np.transpose() function to transpose a matrix:"
   ]
  },
  {
   "cell_type": "code",
   "execution_count": 3,
   "metadata": {},
   "outputs": [],
   "source": [
    "A = np.array([[1, 2], [3, 4]])\n",
    "\n",
    "# Transpose of matrix A\n",
    "A_transpose = np.transpose(A)"
   ]
  },
  {
   "cell_type": "markdown",
   "metadata": {},
   "source": [
    "3. **Matrix Inversion:**\n",
    "\n",
    "Matrix inversion is the process of finding another matrix that, when multiplied with the original matrix, results in the identity matrix. NumPy's linear algebra module (np.linalg) provides the np.linalg.inv() function to compute the inverse of a matrix:"
   ]
  },
  {
   "cell_type": "code",
   "execution_count": 4,
   "metadata": {},
   "outputs": [],
   "source": [
    "A = np.array([[1, 2], [3, 4]])\n",
    "\n",
    "# Inverse of matrix A\n",
    "A_inv = np.linalg.inv(A)"
   ]
  },
  {
   "cell_type": "markdown",
   "metadata": {},
   "source": [
    "4. **Element-wise Operations:**\n",
    "\n",
    "NumPy allows you to perform element-wise operations on matrices, similar to arrays:"
   ]
  },
  {
   "cell_type": "code",
   "execution_count": 5,
   "metadata": {},
   "outputs": [],
   "source": [
    "matrix = np.array([[1, 2], [3, 4]])\n",
    "\n",
    "# Element-wise square of matrix elements\n",
    "matrix_squared = matrix ** 2\n",
    "\n",
    "# Element-wise square root of matrix elements\n",
    "matrix_sqrt = np.sqrt(matrix)"
   ]
  },
  {
   "cell_type": "markdown",
   "metadata": {},
   "source": [
    "# Conclusion:\n",
    "\n",
    "Mastering matrix operations with NumPy is essential for various scientific and engineering applications. By understanding how to create matrices and perform operations such as multiplication, transposition, inversion, and element-wise operations, you'll be well-equipped to handle complex mathematical computations and data manipulation tasks effectively."
   ]
  }
 ],
 "metadata": {
  "kernelspec": {
   "display_name": "Python 3",
   "language": "python",
   "name": "python3"
  },
  "language_info": {
   "codemirror_mode": {
    "name": "ipython",
    "version": 3
   },
   "file_extension": ".py",
   "mimetype": "text/x-python",
   "name": "python",
   "nbconvert_exporter": "python",
   "pygments_lexer": "ipython3",
   "version": "3.12.4"
  }
 },
 "nbformat": 4,
 "nbformat_minor": 2
}
