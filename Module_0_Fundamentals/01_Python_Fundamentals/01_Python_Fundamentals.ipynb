{
 "cells": [
  {
   "attachments": {},
   "cell_type": "markdown",
   "metadata": {},
   "source": [
    "# **Module 0: Python Programming Basics and Libraries**\n",
    "## **Introduction to Python**\n",
    "\n",
    "## *Basic Python syntax*\n",
    "\n",
    "The objective of this module is to understand the basic syntax of Python programming in order to best use its basics during the AI academy.\n",
    "\n",
    "Basic Python syntax refers to the fundamental rules and structures used to write code in this programming language."
   ]
  },
  {
   "attachments": {},
   "cell_type": "markdown",
   "metadata": {},
   "source": [
    "1. Indentation: Python uses indentation to delimit code blocks instead of braces or keywords such as “begin” and “end”. This means that the structure of the code is determined by the amount of whitespace at the beginning of each line. For example:"
   ]
  },
  {
   "cell_type": "code",
   "execution_count": 2,
   "metadata": {},
   "outputs": [
    {
     "name": "stdout",
     "output_type": "stream",
     "text": [
      "x is greater than 5\n"
     ]
    }
   ],
   "source": [
    "x = 10\n",
    "\n",
    "if x > 5:\n",
    " print(\"x is greater than 5\")\n",
    "else:\n",
    " print(\"x is less than or equal to 5\")"
   ]
  },
  {
   "attachments": {},
   "cell_type": "markdown",
   "metadata": {},
   "source": [
    "2. Comments: Comments can be added to the code using the # symbol. Comments are ignored by the Python interpreter and serve to document the code."
   ]
  },
  {
   "cell_type": "code",
   "execution_count": 2,
   "metadata": {},
   "outputs": [],
   "source": [
    "# This is a comment"
   ]
  },
  {
   "attachments": {},
   "cell_type": "markdown",
   "metadata": {},
   "source": [
    "3. Variables: In Python, variables are defined and assigned in a single line. It is not necessary to declare the variable type since Python is a dynamically typed language.\n"
   ]
  },
  {
   "cell_type": "code",
   "execution_count": 4,
   "metadata": {},
   "outputs": [
    {
     "name": "stdout",
     "output_type": "stream",
     "text": [
      "10\n",
      "Juan\n"
     ]
    }
   ],
   "source": [
    "x = 10\n",
    "name = \"Juan\"\n",
    "\n",
    "print(x)\n",
    "print(name)"
   ]
  },
  {
   "attachments": {},
   "cell_type": "markdown",
   "metadata": {},
   "source": [
    "4. Basic data types: Python has several basic data types, such as integers (int), floats (float), strings (str), booleans (bool), among others."
   ]
  },
  {
   "cell_type": "code",
   "execution_count": null,
   "metadata": {},
   "outputs": [],
   "source": [
    "number = 10\n",
    "price = 19.99\n",
    "name = \"Juan\"\n",
    "is_valid = True"
   ]
  },
  {
   "attachments": {},
   "cell_type": "markdown",
   "metadata": {},
   "source": [
    "5. Operators: Python includes arithmetic operators (+, -, *, /, //, %), comparison operators (==, !=, <, >, <=, >=), logical operators (and, or, not), among others."
   ]
  },
  {
   "cell_type": "code",
   "execution_count": 5,
   "metadata": {},
   "outputs": [
    {
     "name": "stdout",
     "output_type": "stream",
     "text": [
      "8 False False\n"
     ]
    }
   ],
   "source": [
    "sum = 5 + 3\n",
    "is_equal = (5 == 3)\n",
    "is_valid = (x > 5) and (x < 10)\n",
    "\n",
    "print(sum, is_equal, is_valid)"
   ]
  },
  {
   "attachments": {},
   "cell_type": "markdown",
   "metadata": {},
   "source": [
    "6. strings: Text strings can be defined using single (') or double (\") quotes. They can also be concatenated using the + operator or repeated using the  "
   ]
  },
  {
   "cell_type": "code",
   "execution_count": 6,
   "metadata": {},
   "outputs": [
    {
     "name": "stdout",
     "output_type": "stream",
     "text": [
      "Hola, Juan\n"
     ]
    }
   ],
   "source": [
    "greeting = \"Hola, \"\n",
    "name = \"Juan\"\n",
    "message = greeting + name\n",
    "\n",
    "print(message)"
   ]
  },
  {
   "attachments": {},
   "cell_type": "markdown",
   "metadata": {},
   "source": [
    "These are some of the basic concepts of Python syntax that will allow you to start writing code in this language in a concise and clear way.\n"
   ]
  },
  {
   "attachments": {},
   "cell_type": "markdown",
   "metadata": {},
   "source": [
    "## *Data structures: Lists, dictionaries, tuples, sets*\n",
    "\n",
    "Python data structures are fundamental Python tools that allow you to organize and manipulate data efficiently according to your needs."
   ]
  },
  {
   "attachments": {},
   "cell_type": "markdown",
   "metadata": {},
   "source": [
    "1.  Lists:\n",
    "Definition: A list is an ordered and mutable collection of elements.\n",
    "Syntax: They are defined using square brackets [] and the elements are separated by commas.\n",
    "Example:"
   ]
  },
  {
   "cell_type": "code",
   "execution_count": 7,
   "metadata": {},
   "outputs": [],
   "source": [
    "lista_numeros = [1, 2, 3, 4, 5]\n",
    "lista_strings = [\"hola\", \"mundo\", \"!\"]\n",
    "lista_mixta = [1, \"dos\", True, 3.14]"
   ]
  },
  {
   "attachments": {},
   "cell_type": "markdown",
   "metadata": {},
   "source": [
    "2. Dictionaries:\n",
    "Definition: A dictionary is an unordered, mutable collection of key-value pairs.\n",
    "Syntax: They are defined using braces {} and each key-value pair is separated by commas, with the key followed by : and the value.\n",
    "Example:\n"
   ]
  },
  {
   "cell_type": "code",
   "execution_count": 8,
   "metadata": {},
   "outputs": [],
   "source": [
    "dictionary = {\"name\": \"Juan\", \"age\": 30, \"city\": \"Madrid\"}"
   ]
  },
  {
   "attachments": {},
   "cell_type": "markdown",
   "metadata": {},
   "source": [
    "3. Tuples:\n",
    "Definition: A tuple is an ordered and immutable collection of elements.\n",
    "Syntax: They are defined using parentheses () and the elements are separated by commas.\n",
    "Example:"
   ]
  },
  {
   "cell_type": "code",
   "execution_count": 9,
   "metadata": {},
   "outputs": [],
   "source": [
    "pla_numbers = (1, 2, 3, 4, 5)\n",
    "tupla_strings = (\"hello\", \"world\", \"!\")\n",
    "tuple_mixed = (1, \"two\", True, 3.14)"
   ]
  },
  {
   "attachments": {},
   "cell_type": "markdown",
   "metadata": {},
   "source": [
    "4. Sets:\n",
    "Definition: A set is an unordered, mutable collection of unique elements.\n",
    "Syntax: They are defined using braces {} but without key-value pairs, only with the elements separated by commas.\n",
    "Example:"
   ]
  },
  {
   "cell_type": "code",
   "execution_count": 10,
   "metadata": {},
   "outputs": [],
   "source": [
    "set_numbers = {1, 2, 3, 4, 5}\n",
    "set_letters = {'a', 'b', 'c'}"
   ]
  },
  {
   "attachments": {},
   "cell_type": "markdown",
   "metadata": {},
   "source": [
    "## *Bucles y Condicionales*\n",
    "\n",
    "1. Conditionals:\n",
    "\n",
    "In Python, conditionals are used to make decisions based on Boolean conditions.\n",
    "The basic structure of a conditional is as follows:\n",
    "\n",
    "```\n",
    "if condition:\n",
    " # code block if condition is true.\n",
    "elif other_condition:\n",
    " # Code block if other_condition is true.\n",
    "else:\n",
    " # Code block if none of the above conditions is true.\n",
    " \n",
    "```\n",
    "\n",
    "You can use as many elif blocks as you need.\n",
    "The else block is optional and is executed if none of the above conditions is true.\n"
   ]
  },
  {
   "attachments": {},
   "cell_type": "markdown",
   "metadata": {},
   "source": [
    "2. Loops:\n",
    "\n",
    "In Python, there are two types of loops: for and while.\n",
    "For loop:\n",
    "Used to iterate over a sequence (such as a list, tuple, dictionary, etc.).\n",
    "The syntax is:\n",
    "```\n",
    "for element in sequence:\n",
    "# Block of code that executes at each iteration.\n",
    "```\n",
    "\n",
    "While loop:\n",
    "Used to repeat a block of code as long as a condition is met.\n",
    "The syntax is:\n",
    "```\n",
    "while condition:\n",
    "# Block of code that executes as long as the condition is true.\n",
    "```\n",
    "It is important to make sure that the while loop condition eventually becomes false to avoid infinite loops.\n",
    "\n",
    "These are the basics of Python loops and conditionals. They are fundamental tools that allow you to control the flow of your program and perform repetitive tasks efficiently.\n"
   ]
  },
  {
   "attachments": {},
   "cell_type": "markdown",
   "metadata": {},
   "source": [
    "## *Functions and Classes*\n",
    "\n",
    "1. Functions:\n",
    "\n",
    "Functions in Python are reusable blocks of code that perform a specific task.\n",
    "They are defined using the def keyword, followed by the function name and parentheses that may contain input arguments.\n",
    "The basic syntax is as follows:\n",
    "```\n",
    "def function_name(argument1, argument2):\n",
    "# function code block.\n",
    " \t\t\treturn result\n",
    "\n",
    "```\n",
    "You can use return to return a value calculated by the function, but this is optional.\n",
    "Example:"
   ]
  },
  {
   "cell_type": "code",
   "execution_count": 2,
   "metadata": {},
   "outputs": [
    {
     "name": "stdout",
     "output_type": "stream",
     "text": [
      "8\n"
     ]
    }
   ],
   "source": [
    "def sum(a, b):\n",
    " return a + b\n",
    "\n",
    "result = sum(3, 5)\n",
    "print(result) # Output: 8"
   ]
  },
  {
   "attachments": {},
   "cell_type": "markdown",
   "metadata": {},
   "source": [
    "2. Classes:\n",
    "\n",
    "Classes in Python are structures that allow you to create objects with properties (attributes) and behaviors (methods).\n",
    "They are defined using the keyword class, followed by the class name and a colon : to start the class definition block.\n",
    "Within the class, you can define attributes using the special __init__() method and methods that represent the behavior of the objects.\n",
    "The basic syntax is as follows:"
   ]
  },
  {
   "cell_type": "code",
   "execution_count": 14,
   "metadata": {},
   "outputs": [],
   "source": [
    "class ClassName:\n",
    " def __init__(self, argument1, argument2):\n",
    "    self.attribute1 = argument1\n",
    "    self.attribute2 = argument2\n",
    "\n",
    " def method(self):\n",
    " # method code block.\n",
    "    return result"
   ]
  },
  {
   "attachments": {},
   "cell_type": "markdown",
   "metadata": {},
   "source": [
    "The self parameter is used to refer to the current object.\n",
    "You can access the attributes and methods of a class using the dot notation (object.attribute or object.method()).\n",
    "Example:"
   ]
  },
  {
   "cell_type": "code",
   "execution_count": 5,
   "metadata": {},
   "outputs": [
    {
     "name": "stdout",
     "output_type": "stream",
     "text": [
      "Hi! My name is John and I am 30 years old.\n"
     ]
    }
   ],
   "source": [
    "class Person:\n",
    " def __init__(self, name, age):\n",
    "    self.name = name\n",
    "    self.age = age\n",
    "\n",
    " def introduce(self):\n",
    "    return f\"Hi! My name is {self.name} and I am {self.age} years old.\"\n",
    "\n",
    "person1 = Person(\"John\", 30)\n",
    "print(person1.introduce()) # Output: Hello! My name is John and I am 30 years old.\n"
   ]
  },
  {
   "attachments": {},
   "cell_type": "markdown",
   "metadata": {},
   "source": [
    "These are the basics of developing functions and classes in Python. Functions allow you to encapsulate code and reuse it easily, while classes allow you to model objects with specific properties and behaviors."
   ]
  }
 ],
 "metadata": {
  "kernelspec": {
   "display_name": "Python 3",
   "language": "python",
   "name": "python3"
  },
  "language_info": {
   "codemirror_mode": {
    "name": "ipython",
    "version": 3
   },
   "file_extension": ".py",
   "mimetype": "text/x-python",
   "name": "python",
   "nbconvert_exporter": "python",
   "pygments_lexer": "ipython3",
   "version": "3.12.4"
  },
  "orig_nbformat": 4,
  "vscode": {
   "interpreter": {
    "hash": "aee8b7b246df8f9039afb4144a1f6fd8d2ca17a180786b69acc140d282b71a49"
   }
  }
 },
 "nbformat": 4,
 "nbformat_minor": 2
}
