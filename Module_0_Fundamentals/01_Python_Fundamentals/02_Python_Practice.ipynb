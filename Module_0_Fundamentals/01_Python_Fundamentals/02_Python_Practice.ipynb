{
 "cells": [
  {
   "cell_type": "code",
   "execution_count": 1,
   "metadata": {},
   "outputs": [
    {
     "name": "stdout",
     "output_type": "stream",
     "text": [
      "2\n"
     ]
    }
   ],
   "source": [
    "# Exercise 1\n",
    "# Write a program that takes two numbers as input and displays the difference between them.\n",
    "\n",
    "number1 = 5\n",
    "number2 = 3\n",
    "diff = number1 - number2\n",
    "print(diff)"
   ]
  },
  {
   "cell_type": "code",
   "execution_count": 2,
   "metadata": {},
   "outputs": [
    {
     "name": "stdout",
     "output_type": "stream",
     "text": [
      "TEST UPPERCASE\n"
     ]
    }
   ],
   "source": [
    "# Exercise 2\n",
    "# Create a function that takes a string as an argument and prints it in uppercase.\n",
    "def to_uppercase(word):\n",
    "  return word.upper()\n",
    "\n",
    "print(to_uppercase(\"test uppercase\"))\n"
   ]
  },
  {
   "cell_type": "code",
   "execution_count": 4,
   "metadata": {},
   "outputs": [
    {
     "name": "stdout",
     "output_type": "stream",
     "text": [
      "9\n"
     ]
    }
   ],
   "source": [
    "# Exercise 3\n",
    "# Write a program that takes a list of numbers as input and displays the largest number in the list.\n",
    "\n",
    "numbers = [4, 2, 9, 5, 1]\n",
    "\n",
    "def greater_number(nums):\n",
    "  greater = nums[0]\n",
    "  for num in nums:\n",
    "    if num > greater:\n",
    "      greater = num\n",
    "  return greater\n",
    "\n",
    "print(greater_number(numbers))"
   ]
  },
  {
   "cell_type": "code",
   "execution_count": 5,
   "metadata": {},
   "outputs": [
    {
     "name": "stdout",
     "output_type": "stream",
     "text": [
      "13\n"
     ]
    }
   ],
   "source": [
    "# Exercise 4\n",
    "# Create a function that takes a text string and counts the number of letters it contains.\n",
    "def count_letters(word):\n",
    "  count = 0\n",
    "  for letter in word:\n",
    "    count = count + 1\n",
    "  return count\n",
    "\n",
    "print(count_letters(\"Count Letters\"))\n"
   ]
  },
  {
   "cell_type": "code",
   "execution_count": 8,
   "metadata": {},
   "outputs": [
    {
     "name": "stdout",
     "output_type": "stream",
     "text": [
      "5\n",
      "5\n",
      "6\n"
     ]
    }
   ],
   "source": [
    "# Exercise 5\n",
    "# Write a program that takes a list of words as input and displays the length of each word in the list.\n",
    "\n",
    "words = [\"hello\", \"world\", \"python\"]\n",
    "\n",
    "def print_length(words):\n",
    "  for word in words:\n",
    "    print(len(word))\n",
    "\n",
    "print_length(words)\n"
   ]
  },
  {
   "cell_type": "code",
   "execution_count": 10,
   "metadata": {},
   "outputs": [
    {
     "name": "stdout",
     "output_type": "stream",
     "text": [
      "30\n"
     ]
    }
   ],
   "source": [
    "# Exercise 6\n",
    "# Create a function that takes two numbers as arguments and returns the result of multiplying them.\n",
    "\n",
    "def multiply(num1, num2):\n",
    "  return num1 * num2\n",
    "\n",
    "print(multiply(6,5))"
   ]
  },
  {
   "cell_type": "code",
   "execution_count": 11,
   "metadata": {},
   "outputs": [
    {
     "name": "stdout",
     "output_type": "stream",
     "text": [
      "2\n",
      "4\n",
      "6\n",
      "8\n",
      "10\n"
     ]
    }
   ],
   "source": [
    "# Exercise 7\n",
    "# Write a program that takes a list of numbers as input and displays only the even numbers in the list.\n",
    "def even_numbers(numbers):\n",
    "  for num in numbers:\n",
    "    if num % 2 == 0:\n",
    "      print(num)\n",
    "\n",
    "even_numbers([1,2,3,4,5,6,7,8,9,10])\n"
   ]
  },
  {
   "cell_type": "code",
   "execution_count": 12,
   "metadata": {},
   "outputs": [
    {
     "name": "stdout",
     "output_type": "stream",
     "text": [
      "dlroW olleH\n"
     ]
    }
   ],
   "source": [
    "# Exercise 8\n",
    "# Create a function that takes a string and returns the inverted string.\n",
    "\n",
    "def reverse(word):\n",
    "  rev = \"\"\n",
    "  for ch in word:\n",
    "    rev = ch + rev\n",
    "\n",
    "  return rev\n",
    "\n",
    "print(reverse(\"Hello World\"))"
   ]
  },
  {
   "cell_type": "code",
   "execution_count": 13,
   "metadata": {},
   "outputs": [
    {
     "name": "stdout",
     "output_type": "stream",
     "text": [
      "apple\n",
      "airplane\n"
     ]
    }
   ],
   "source": [
    "# Exercise 9\n",
    "# Write a program that takes a list of words as input and displays only words beginning with the letter 'a'.\n",
    "\n",
    "words = [\"car\", \"apple\", \"airplane\", \"dog\", \"cat\"]\n",
    "\n",
    "def starts(words):\n",
    "  for word in words:\n",
    "    if word.startswith(\"a\"):\n",
    "      print(word)\n",
    "\n",
    "starts(words)"
   ]
  },
  {
   "cell_type": "code",
   "execution_count": 14,
   "metadata": {},
   "outputs": [
    {
     "name": "stdout",
     "output_type": "stream",
     "text": [
      "36\n"
     ]
    }
   ],
   "source": [
    "# Exercise 10\n",
    "# Create a function that takes a list of numbers as an argument and returns the sum of all the numbers in the list.\n",
    "\n",
    "def sum(numbers):\n",
    "  result = 0\n",
    "  for number in numbers:\n",
    "    result = result + number\n",
    "  return result\n",
    "\n",
    "print(sum([1,2,3,4,5,6,7,8]))"
   ]
  }
 ],
 "metadata": {
  "kernelspec": {
   "display_name": "Python 3",
   "language": "python",
   "name": "python3"
  },
  "language_info": {
   "codemirror_mode": {
    "name": "ipython",
    "version": 3
   },
   "file_extension": ".py",
   "mimetype": "text/x-python",
   "name": "python",
   "nbconvert_exporter": "python",
   "pygments_lexer": "ipython3",
   "version": "3.12.4"
  },
  "orig_nbformat": 4,
  "vscode": {
   "interpreter": {
    "hash": "aee8b7b246df8f9039afb4144a1f6fd8d2ca17a180786b69acc140d282b71a49"
   }
  }
 },
 "nbformat": 4,
 "nbformat_minor": 2
}
